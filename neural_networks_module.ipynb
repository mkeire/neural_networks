{
 "cells": [
  {
   "cell_type": "code",
   "execution_count": 30,
   "metadata": {},
   "outputs": [],
   "source": [
    "# Import our dependencies\n",
    "import pandas as pd\n",
    "import matplotlib as plt\n",
    "from sklearn.datasets import make_blobs\n",
    "import sklearn as skl\n",
    "import tensorflow as tf"
   ]
  },
  {
   "cell_type": "code",
   "execution_count": 31,
   "metadata": {},
   "outputs": [
    {
     "data": {
      "text/plain": [
       "<matplotlib.axes._subplots.AxesSubplot at 0x1f4012fb1c8>"
      ]
     },
     "execution_count": 31,
     "metadata": {},
     "output_type": "execute_result"
    },
    {
     "data": {
      "image/png": "[encoded data removed]",
      "text/plain": [
       "<Figure size 432x288 with 2 Axes>"
      ]
     },
     "metadata": {
      "needs_background": "light"
     },
     "output_type": "display_data"
    }
   ],
   "source": [
    "# Generate dummy dataset\n",
    "X, y = make_blobs(n_samples=1000, centers=2, n_features=2, random_state=78)\n",
    "\n",
    "# Creating a DataFrame with the dummy data\n",
    "df = pd.DataFrame(X, columns=[\"Feature 1\", \"Feature 2\"])\n",
    "df[\"Target\"] = y\n",
    "\n",
    "# Plotting the dummy data\n",
    "df.plot.scatter(x=\"Feature 1\", y=\"Feature 2\", c=\"Target\", colormap=\"winter\")\n"
   ]
  },
  {
   "cell_type": "code",
   "execution_count": 32,
   "metadata": {},
   "outputs": [],
   "source": [
    "# Use sklearn to split dataset\n",
    "from sklearn.model_selection import train_test_split\n",
    "X_train, X_test, y_train, y_test = train_test_split(X, y, random_state=78)"
   ]
  },
  {
   "cell_type": "code",
   "execution_count": 33,
   "metadata": {},
   "outputs": [],
   "source": [
    "# Create scaler instance\n",
    "X_scaler = skl.preprocessing.StandardScaler()\n",
    "\n",
    "# Fit the scaler\n",
    "X_scaler.fit(X_train)\n",
    "\n",
    "# Scale the data\n",
    "X_train_scaled = X_scaler.transform(X_train)\n",
    "X_test_scaled = X_scaler.transform(X_test)"
   ]
  },
  {
   "cell_type": "code",
   "execution_count": 34,
   "metadata": {},
   "outputs": [],
   "source": [
    "# Create the Keras Sequential model\n",
    "nn_model = tf.keras.models.Sequential()"
   ]
  },
  {
   "cell_type": "code",
   "execution_count": 35,
   "metadata": {},
   "outputs": [],
   "source": [
    "# Add our first Dense layer, including the input layer\n",
    "nn_model.add(tf.keras.layers.Dense(units=1, activation=\"relu\", input_dim=2))"
   ]
  },
  {
   "cell_type": "code",
   "execution_count": 36,
   "metadata": {},
   "outputs": [],
   "source": [
    "# Add the output layer that uses a probability activation function\n",
    "nn_model.add(tf.keras.layers.Dense(units=1, activation=\"sigmoid\"))"
   ]
  },
  {
   "cell_type": "code",
   "execution_count": 37,
   "metadata": {},
   "outputs": [
    {
     "name": "stdout",
     "output_type": "stream",
     "text": [
      "Model: \"sequential_2\"\n",
      "_________________________________________________________________\n",
      "Layer (type)                 Output Shape              Param #   \n",
      "=================================================================\n",
      "dense_4 (Dense)              (None, 1)                 3         \n",
      "_________________________________________________________________\n",
      "dense_5 (Dense)              (None, 1)                 2         \n",
      "=================================================================\n",
      "Total params: 5\n",
      "Trainable params: 5\n",
      "Non-trainable params: 0\n",
      "_________________________________________________________________\n"
     ]
    }
   ],
   "source": [
    "# Check the structure of the Sequential model\n",
    "nn_model.summary()"
   ]
  },
  {
   "cell_type": "code",
   "execution_count": 38,
   "metadata": {},
   "outputs": [],
   "source": [
    "# Compile the Sequential model together and customize metrics\n",
    "nn_model.compile(loss=\"binary_crossentropy\", optimizer=\"adam\", metrics=[\"accuracy\"])"
   ]
  },
  {
   "cell_type": "code",
   "execution_count": 39,
   "metadata": {},
   "outputs": [
    {
     "name": "stdout",
     "output_type": "stream",
     "text": [
      "Epoch 1/100\n",
      "750/750 [==============================] - 0s 143us/sample - loss: 0.6288 - acc: 0.9707\n",
      "Epoch 2/100\n",
      "750/750 [==============================] - 0s 31us/sample - loss: 0.6193 - acc: 1.0000\n",
      "Epoch 3/100\n",
      "750/750 [==============================] - 0s 29us/sample - loss: 0.6091 - acc: 1.0000\n",
      "Epoch 4/100\n",
      "750/750 [==============================] - 0s 25us/sample - loss: 0.5983 - acc: 1.0000\n",
      "Epoch 5/100\n",
      "750/750 [==============================] - 0s 28us/sample - loss: 0.5867 - acc: 1.0000\n",
      "Epoch 6/100\n",
      "750/750 [==============================] - 0s 28us/sample - loss: 0.5746 - acc: 1.0000\n",
      "Epoch 7/100\n",
      "750/750 [==============================] - 0s 28us/sample - loss: 0.5620 - acc: 1.0000\n",
      "Epoch 8/100\n",
      "750/750 [==============================] - 0s 27us/sample - loss: 0.5489 - acc: 1.0000\n",
      "Epoch 9/100\n",
      "750/750 [==============================] - 0s 28us/sample - loss: 0.5355 - acc: 1.0000\n",
      "Epoch 10/100\n",
      "750/750 [==============================] - 0s 28us/sample - loss: 0.5218 - acc: 1.0000\n",
      "Epoch 11/100\n",
      "750/750 [==============================] - 0s 29us/sample - loss: 0.5081 - acc: 1.0000\n",
      "Epoch 12/100\n",
      "750/750 [==============================] - 0s 29us/sample - loss: 0.4943 - acc: 1.0000\n",
      "Epoch 13/100\n",
      "750/750 [==============================] - 0s 31us/sample - loss: 0.4805 - acc: 1.0000\n",
      "Epoch 14/100\n",
      "750/750 [==============================] - 0s 25us/sample - loss: 0.4668 - acc: 1.0000\n",
      "Epoch 15/100\n",
      "750/750 [==============================] - 0s 28us/sample - loss: 0.4534 - acc: 1.0000\n",
      "Epoch 16/100\n",
      "750/750 [==============================] - 0s 33us/sample - loss: 0.4400 - acc: 1.0000\n",
      "Epoch 17/100\n",
      "750/750 [==============================] - 0s 29us/sample - loss: 0.4270 - acc: 1.0000\n",
      "Epoch 18/100\n",
      "750/750 [==============================] - 0s 32us/sample - loss: 0.4142 - acc: 1.0000\n",
      "Epoch 19/100\n",
      "750/750 [==============================] - 0s 28us/sample - loss: 0.4018 - acc: 1.0000\n",
      "Epoch 20/100\n",
      "750/750 [==============================] - 0s 29us/sample - loss: 0.3899 - acc: 1.0000\n",
      "Epoch 21/100\n",
      "750/750 [==============================] - 0s 29us/sample - loss: 0.3783 - acc: 1.0000\n",
      "Epoch 22/100\n",
      "750/750 [==============================] - 0s 31us/sample - loss: 0.3670 - acc: 1.0000\n",
      "Epoch 23/100\n",
      "750/750 [==============================] - 0s 28us/sample - loss: 0.3563 - acc: 1.0000\n",
      "Epoch 24/100\n",
      "750/750 [==============================] - 0s 28us/sample - loss: 0.3459 - acc: 1.0000\n",
      "Epoch 25/100\n",
      "750/750 [==============================] - 0s 27us/sample - loss: 0.3358 - acc: 1.0000\n",
      "Epoch 26/100\n",
      "750/750 [==============================] - 0s 33us/sample - loss: 0.3262 - acc: 1.0000\n",
      "Epoch 27/100\n",
      "750/750 [==============================] - 0s 29us/sample - loss: 0.3169 - acc: 1.0000\n",
      "Epoch 28/100\n",
      "750/750 [==============================] - 0s 28us/sample - loss: 0.3079 - acc: 1.0000\n",
      "Epoch 29/100\n",
      "750/750 [==============================] - 0s 31us/sample - loss: 0.2994 - acc: 1.0000\n",
      "Epoch 30/100\n",
      "750/750 [==============================] - 0s 29us/sample - loss: 0.2911 - acc: 1.0000\n",
      "Epoch 31/100\n",
      "750/750 [==============================] - 0s 31us/sample - loss: 0.2832 - acc: 1.0000\n",
      "Epoch 32/100\n",
      "750/750 [==============================] - 0s 31us/sample - loss: 0.2755 - acc: 1.0000\n",
      "Epoch 33/100\n",
      "750/750 [==============================] - 0s 28us/sample - loss: 0.2682 - acc: 1.0000\n",
      "Epoch 34/100\n",
      "750/750 [==============================] - 0s 29us/sample - loss: 0.2611 - acc: 1.0000\n",
      "Epoch 35/100\n",
      "750/750 [==============================] - 0s 31us/sample - loss: 0.2544 - acc: 1.0000\n",
      "Epoch 36/100\n",
      "750/750 [==============================] - 0s 31us/sample - loss: 0.2478 - acc: 1.0000\n",
      "Epoch 37/100\n",
      "750/750 [==============================] - 0s 32us/sample - loss: 0.2416 - acc: 1.0000\n",
      "Epoch 38/100\n",
      "750/750 [==============================] - 0s 28us/sample - loss: 0.2355 - acc: 1.0000\n",
      "Epoch 39/100\n",
      "750/750 [==============================] - 0s 29us/sample - loss: 0.2297 - acc: 1.0000\n",
      "Epoch 40/100\n",
      "750/750 [==============================] - 0s 31us/sample - loss: 0.2241 - acc: 1.0000\n",
      "Epoch 41/100\n",
      "750/750 [==============================] - 0s 31us/sample - loss: 0.2187 - acc: 1.0000\n",
      "Epoch 42/100\n",
      "750/750 [==============================] - 0s 29us/sample - loss: 0.2135 - acc: 1.0000\n",
      "Epoch 43/100\n",
      "750/750 [==============================] - 0s 28us/sample - loss: 0.2085 - acc: 1.0000\n",
      "Epoch 44/100\n",
      "750/750 [==============================] - 0s 29us/sample - loss: 0.2037 - acc: 1.0000\n",
      "Epoch 45/100\n",
      "750/750 [==============================] - 0s 28us/sample - loss: 0.1990 - acc: 1.0000\n",
      "Epoch 46/100\n",
      "750/750 [==============================] - 0s 31us/sample - loss: 0.1945 - acc: 1.0000\n",
      "Epoch 47/100\n",
      "750/750 [==============================] - 0s 28us/sample - loss: 0.1901 - acc: 1.0000\n",
      "Epoch 48/100\n",
      "750/750 [==============================] - 0s 31us/sample - loss: 0.1859 - acc: 1.0000\n",
      "Epoch 49/100\n",
      "750/750 [==============================] - 0s 28us/sample - loss: 0.1818 - acc: 1.0000\n",
      "Epoch 50/100\n",
      "750/750 [==============================] - 0s 37us/sample - loss: 0.1778 - acc: 1.0000\n",
      "Epoch 51/100\n",
      "750/750 [==============================] - 0s 28us/sample - loss: 0.1740 - acc: 1.0000\n",
      "Epoch 52/100\n",
      "750/750 [==============================] - 0s 29us/sample - loss: 0.1703 - acc: 1.0000\n",
      "Epoch 53/100\n",
      "750/750 [==============================] - 0s 28us/sample - loss: 0.1667 - acc: 1.0000\n",
      "Epoch 54/100\n",
      "750/750 [==============================] - 0s 32us/sample - loss: 0.1633 - acc: 1.0000\n",
      "Epoch 55/100\n",
      "750/750 [==============================] - 0s 28us/sample - loss: 0.1599 - acc: 1.0000\n",
      "Epoch 56/100\n",
      "750/750 [==============================] - 0s 28us/sample - loss: 0.1566 - acc: 1.0000\n",
      "Epoch 57/100\n",
      "750/750 [==============================] - 0s 27us/sample - loss: 0.1534 - acc: 1.0000\n",
      "Epoch 58/100\n",
      "750/750 [==============================] - 0s 27us/sample - loss: 0.1503 - acc: 1.0000\n",
      "Epoch 59/100\n",
      "750/750 [==============================] - 0s 31us/sample - loss: 0.1473 - acc: 1.0000\n",
      "Epoch 60/100\n",
      "750/750 [==============================] - 0s 29us/sample - loss: 0.1444 - acc: 1.0000\n",
      "Epoch 61/100\n",
      "750/750 [==============================] - 0s 29us/sample - loss: 0.1416 - acc: 1.0000\n",
      "Epoch 62/100\n",
      "750/750 [==============================] - 0s 29us/sample - loss: 0.1388 - acc: 1.0000\n",
      "Epoch 63/100\n",
      "750/750 [==============================] - 0s 28us/sample - loss: 0.1361 - acc: 1.0000\n",
      "Epoch 64/100\n",
      "750/750 [==============================] - 0s 27us/sample - loss: 0.1336 - acc: 1.0000\n",
      "Epoch 65/100\n",
      "750/750 [==============================] - 0s 27us/sample - loss: 0.1310 - acc: 1.0000\n",
      "Epoch 66/100\n",
      "750/750 [==============================] - 0s 29us/sample - loss: 0.1286 - acc: 1.0000\n",
      "Epoch 67/100\n",
      "750/750 [==============================] - 0s 28us/sample - loss: 0.1262 - acc: 1.0000\n",
      "Epoch 68/100\n",
      "750/750 [==============================] - 0s 28us/sample - loss: 0.1238 - acc: 1.0000\n",
      "Epoch 69/100\n",
      "750/750 [==============================] - 0s 27us/sample - loss: 0.1216 - acc: 1.0000\n",
      "Epoch 70/100\n",
      "750/750 [==============================] - 0s 27us/sample - loss: 0.1193 - acc: 1.0000\n",
      "Epoch 71/100\n",
      "750/750 [==============================] - 0s 32us/sample - loss: 0.1172 - acc: 1.0000\n",
      "Epoch 72/100\n",
      "750/750 [==============================] - 0s 29us/sample - loss: 0.1151 - acc: 1.0000\n",
      "Epoch 73/100\n",
      "750/750 [==============================] - 0s 31us/sample - loss: 0.1130 - acc: 1.0000\n",
      "Epoch 74/100\n",
      "750/750 [==============================] - 0s 29us/sample - loss: 0.1110 - acc: 1.0000\n",
      "Epoch 75/100\n",
      "750/750 [==============================] - 0s 27us/sample - loss: 0.1090 - acc: 1.0000\n",
      "Epoch 76/100\n",
      "750/750 [==============================] - 0s 27us/sample - loss: 0.1071 - acc: 1.0000\n",
      "Epoch 77/100\n",
      "750/750 [==============================] - 0s 28us/sample - loss: 0.1052 - acc: 1.0000\n",
      "Epoch 78/100\n",
      "750/750 [==============================] - 0s 28us/sample - loss: 0.1034 - acc: 1.0000\n",
      "Epoch 79/100\n",
      "750/750 [==============================] - 0s 27us/sample - loss: 0.1016 - acc: 1.0000\n",
      "Epoch 80/100\n",
      "750/750 [==============================] - 0s 27us/sample - loss: 0.0999 - acc: 1.0000\n",
      "Epoch 81/100\n",
      "750/750 [==============================] - 0s 27us/sample - loss: 0.0982 - acc: 1.0000\n",
      "Epoch 82/100\n",
      "750/750 [==============================] - 0s 27us/sample - loss: 0.0965 - acc: 1.0000\n",
      "Epoch 83/100\n"
     ]
    },
    {
     "name": "stdout",
     "output_type": "stream",
     "text": [
      "750/750 [==============================] - 0s 27us/sample - loss: 0.0949 - acc: 1.0000\n",
      "Epoch 84/100\n",
      "750/750 [==============================] - 0s 27us/sample - loss: 0.0933 - acc: 1.0000\n",
      "Epoch 85/100\n",
      "750/750 [==============================] - 0s 27us/sample - loss: 0.0918 - acc: 1.0000\n",
      "Epoch 86/100\n",
      "750/750 [==============================] - 0s 28us/sample - loss: 0.0903 - acc: 1.0000\n",
      "Epoch 87/100\n",
      "750/750 [==============================] - 0s 27us/sample - loss: 0.0888 - acc: 1.0000\n",
      "Epoch 88/100\n",
      "750/750 [==============================] - 0s 29us/sample - loss: 0.0873 - acc: 1.0000\n",
      "Epoch 89/100\n",
      "750/750 [==============================] - 0s 27us/sample - loss: 0.0859 - acc: 1.0000\n",
      "Epoch 90/100\n",
      "750/750 [==============================] - 0s 28us/sample - loss: 0.0845 - acc: 1.0000\n",
      "Epoch 91/100\n",
      "750/750 [==============================] - 0s 25us/sample - loss: 0.0832 - acc: 1.0000\n",
      "Epoch 92/100\n",
      "750/750 [==============================] - 0s 27us/sample - loss: 0.0818 - acc: 1.0000\n",
      "Epoch 93/100\n",
      "750/750 [==============================] - 0s 32us/sample - loss: 0.0805 - acc: 1.0000\n",
      "Epoch 94/100\n",
      "750/750 [==============================] - 0s 28us/sample - loss: 0.0792 - acc: 1.0000\n",
      "Epoch 95/100\n",
      "750/750 [==============================] - 0s 28us/sample - loss: 0.0780 - acc: 1.0000\n",
      "Epoch 96/100\n",
      "750/750 [==============================] - 0s 29us/sample - loss: 0.0768 - acc: 1.0000\n",
      "Epoch 97/100\n",
      "750/750 [==============================] - 0s 28us/sample - loss: 0.0756 - acc: 1.0000\n",
      "Epoch 98/100\n",
      "750/750 [==============================] - 0s 28us/sample - loss: 0.0744 - acc: 1.0000\n",
      "Epoch 99/100\n",
      "750/750 [==============================] - 0s 27us/sample - loss: 0.0733 - acc: 1.0000\n",
      "Epoch 100/100\n",
      "750/750 [==============================] - 0s 29us/sample - loss: 0.0721 - acc: 1.0000\n"
     ]
    }
   ],
   "source": [
    "# Fit the model to the training data\n",
    "fit_model = nn_model.fit(X_train_scaled, y_train, epochs=100)"
   ]
  },
  {
   "cell_type": "code",
   "execution_count": 48,
   "metadata": {},
   "outputs": [
    {
     "data": {
      "text/plain": [
       "<matplotlib.axes._subplots.AxesSubplot at 0x1f4017ba548>"
      ]
     },
     "execution_count": 48,
     "metadata": {},
     "output_type": "execute_result"
    },
    {
     "data": {
      "image/png": "[encoded data removed]",
      "text/plain": [
       "<Figure size 432x288 with 1 Axes>"
      ]
     },
     "metadata": {
      "needs_background": "light"
     },
     "output_type": "display_data"
    }
   ],
   "source": [
    "# Create a DataFrame containing training history\n",
    "history_df = pd.DataFrame(fit_model.history, index=range(1,len(fit_model.history[\"loss\"])+1))\n",
    "\n",
    "# Plot the loss\n",
    "history_df.plot(y=\"loss\")"
   ]
  },
  {
   "cell_type": "code",
   "execution_count": 56,
   "metadata": {},
   "outputs": [
    {
     "data": {
      "text/plain": [
       "<matplotlib.axes._subplots.AxesSubplot at 0x1f40182e188>"
      ]
     },
     "execution_count": 56,
     "metadata": {},
     "output_type": "execute_result"
    },
    {
     "data": {
      "image/png": "[encoded data removed]",
      "text/plain": [
       "<Figure size 432x288 with 1 Axes>"
      ]
     },
     "metadata": {
      "needs_background": "light"
     },
     "output_type": "display_data"
    }
   ],
   "source": [
    "# Plot the accuracy\n",
    "history_df.plot(y=\"acc\")"
   ]
  },
  {
   "cell_type": "code",
   "execution_count": 50,
   "metadata": {},
   "outputs": [
    {
     "name": "stdout",
     "output_type": "stream",
     "text": [
      "250/250 - 0s - loss: 0.0729 - acc: 1.0000\n",
      "Loss: 0.07294287288188935, Accuracy: 1.0\n"
     ]
    }
   ],
   "source": [
    "# Evaluate the model using the test data\n",
    "model_loss, model_accuracy = nn_model.evaluate(X_test_scaled,y_test,verbose=2)\n",
    "print(f\"Loss: {model_loss}, Accuracy: {model_accuracy}\")"
   ]
  },
  {
   "cell_type": "code",
   "execution_count": 57,
   "metadata": {},
   "outputs": [
    {
     "data": {
      "text/plain": [
       "array([[0],\n",
       "       [1],\n",
       "       [0],\n",
       "       [1],\n",
       "       [0],\n",
       "       [0],\n",
       "       [1],\n",
       "       [1],\n",
       "       [1],\n",
       "       [0]])"
      ]
     },
     "execution_count": 57,
     "metadata": {},
     "output_type": "execute_result"
    }
   ],
   "source": [
    "# Predict the classification of a new set of blob data\n",
    "new_X, new_Y = make_blobs(n_samples=10, centers=2, n_features=2, random_state=78)\n",
    "new_X_scaled = X_scaler.transform(new_X)\n",
    "nn_model.predict_classes(new_X_scaled)"
   ]
  },
  {
   "cell_type": "code",
   "execution_count": 58,
   "metadata": {},
   "outputs": [
    {
     "data": {
      "text/plain": [
       "<matplotlib.axes._subplots.AxesSubplot at 0x1f402871188>"
      ]
     },
     "execution_count": 58,
     "metadata": {},
     "output_type": "execute_result"
    },
    {
     "data": {
      "image/png": "[encoded data removed]",
      "text/plain": [
       "<Figure size 432x288 with 2 Axes>"
      ]
     },
     "metadata": {
      "needs_background": "light"
     },
     "output_type": "display_data"
    }
   ],
   "source": [
    "from sklearn.datasets import make_moons\n",
    "\n",
    "# Creating dummy nonlinear data\n",
    "X_moons, y_moons = make_moons(n_samples=1000, noise=0.08, random_state=78)\n",
    "\n",
    "# Transforming y_moons to a vertical vector\n",
    "y_moons = y_moons.reshape(-1, 1)\n",
    "\n",
    "# Creating a DataFrame to plot the nonlinear dummy data\n",
    "df_moons = pd.DataFrame(X_moons, columns=[\"Feature 1\", \"Feature 2\"])\n",
    "df_moons[\"Target\"] = y_moons\n",
    "\n",
    "# Plot the nonlinear dummy data\n",
    "df_moons.plot.scatter(x=\"Feature 1\",y=\"Feature 2\", c=\"Target\",colormap=\"winter\")"
   ]
  },
  {
   "cell_type": "code",
   "execution_count": 59,
   "metadata": {},
   "outputs": [],
   "source": [
    "# Create training and testing sets\n",
    "X_moon_train, X_moon_test, y_moon_train, y_moon_test = train_test_split(\n",
    "    X_moons, y_moons, random_state=78\n",
    ")\n",
    "\n",
    "# Create the scaler instance\n",
    "X_moon_scaler = skl.preprocessing.StandardScaler()\n",
    "\n",
    "# Fit the scaler\n",
    "X_moon_scaler.fit(X_moon_train)\n",
    "\n",
    "# Scale the data\n",
    "X_moon_train_scaled = X_moon_scaler.transform(X_moon_train)\n",
    "X_moon_test_scaled = X_moon_scaler.transform(X_moon_test)"
   ]
  },
  {
   "cell_type": "code",
   "execution_count": 60,
   "metadata": {},
   "outputs": [
    {
     "name": "stdout",
     "output_type": "stream",
     "text": [
      "Epoch 1/100\n",
      "750/750 [==============================] - 0s 32us/sample - loss: 1.1183 - acc: 0.4600\n",
      "Epoch 2/100\n",
      "750/750 [==============================] - 0s 36us/sample - loss: 1.0116 - acc: 0.4813\n",
      "Epoch 3/100\n",
      "750/750 [==============================] - 0s 29us/sample - loss: 0.9385 - acc: 0.4973\n",
      "Epoch 4/100\n",
      "750/750 [==============================] - 0s 28us/sample - loss: 0.8868 - acc: 0.5053\n",
      "Epoch 5/100\n",
      "750/750 [==============================] - 0s 28us/sample - loss: 0.8464 - acc: 0.5147\n",
      "Epoch 6/100\n",
      "750/750 [==============================] - 0s 32us/sample - loss: 0.8143 - acc: 0.5267\n",
      "Epoch 7/100\n",
      "750/750 [==============================] - 0s 29us/sample - loss: 0.7862 - acc: 0.5360\n",
      "Epoch 8/100\n",
      "750/750 [==============================] - 0s 29us/sample - loss: 0.7624 - acc: 0.5427\n",
      "Epoch 9/100\n",
      "750/750 [==============================] - 0s 29us/sample - loss: 0.7402 - acc: 0.5453\n",
      "Epoch 10/100\n",
      "750/750 [==============================] - 0s 33us/sample - loss: 0.7205 - acc: 0.5547\n",
      "Epoch 11/100\n",
      "750/750 [==============================] - 0s 31us/sample - loss: 0.7026 - acc: 0.5667\n",
      "Epoch 12/100\n",
      "750/750 [==============================] - 0s 33us/sample - loss: 0.6854 - acc: 0.5747\n",
      "Epoch 13/100\n",
      "750/750 [==============================] - 0s 29us/sample - loss: 0.6698 - acc: 0.5853\n",
      "Epoch 14/100\n",
      "750/750 [==============================] - 0s 29us/sample - loss: 0.6552 - acc: 0.5880\n",
      "Epoch 15/100\n",
      "750/750 [==============================] - 0s 28us/sample - loss: 0.6415 - acc: 0.5960\n",
      "Epoch 16/100\n",
      "750/750 [==============================] - 0s 36us/sample - loss: 0.6287 - acc: 0.6053\n",
      "Epoch 17/100\n",
      "750/750 [==============================] - 0s 35us/sample - loss: 0.6165 - acc: 0.6093\n",
      "Epoch 18/100\n",
      "750/750 [==============================] - 0s 28us/sample - loss: 0.6049 - acc: 0.6173\n",
      "Epoch 19/100\n",
      "750/750 [==============================] - 0s 31us/sample - loss: 0.5939 - acc: 0.6240\n",
      "Epoch 20/100\n",
      "750/750 [==============================] - 0s 28us/sample - loss: 0.5837 - acc: 0.6307\n",
      "Epoch 21/100\n",
      "750/750 [==============================] - 0s 28us/sample - loss: 0.5741 - acc: 0.6360\n",
      "Epoch 22/100\n",
      "750/750 [==============================] - 0s 31us/sample - loss: 0.5650 - acc: 0.6440\n",
      "Epoch 23/100\n",
      "750/750 [==============================] - 0s 32us/sample - loss: 0.5562 - acc: 0.6493\n",
      "Epoch 24/100\n",
      "750/750 [==============================] - 0s 32us/sample - loss: 0.5479 - acc: 0.6520\n",
      "Epoch 25/100\n",
      "750/750 [==============================] - 0s 32us/sample - loss: 0.5398 - acc: 0.6560\n",
      "Epoch 26/100\n",
      "750/750 [==============================] - 0s 27us/sample - loss: 0.5322 - acc: 0.6640\n",
      "Epoch 27/100\n",
      "750/750 [==============================] - 0s 28us/sample - loss: 0.5250 - acc: 0.6720\n",
      "Epoch 28/100\n",
      "750/750 [==============================] - 0s 29us/sample - loss: 0.5181 - acc: 0.6747\n",
      "Epoch 29/100\n",
      "750/750 [==============================] - 0s 29us/sample - loss: 0.5114 - acc: 0.6840\n",
      "Epoch 30/100\n",
      "750/750 [==============================] - 0s 32us/sample - loss: 0.5049 - acc: 0.6880\n",
      "Epoch 31/100\n",
      "750/750 [==============================] - 0s 29us/sample - loss: 0.4986 - acc: 0.6933\n",
      "Epoch 32/100\n",
      "750/750 [==============================] - 0s 32us/sample - loss: 0.4926 - acc: 0.6947\n",
      "Epoch 33/100\n",
      "750/750 [==============================] - 0s 28us/sample - loss: 0.4867 - acc: 0.7000\n",
      "Epoch 34/100\n",
      "750/750 [==============================] - 0s 32us/sample - loss: 0.4808 - acc: 0.7013\n",
      "Epoch 35/100\n",
      "750/750 [==============================] - 0s 31us/sample - loss: 0.4751 - acc: 0.7067\n",
      "Epoch 36/100\n",
      "750/750 [==============================] - 0s 33us/sample - loss: 0.4696 - acc: 0.7147\n",
      "Epoch 37/100\n",
      "750/750 [==============================] - 0s 28us/sample - loss: 0.4642 - acc: 0.7187\n",
      "Epoch 38/100\n",
      "750/750 [==============================] - 0s 32us/sample - loss: 0.4589 - acc: 0.7200\n",
      "Epoch 39/100\n",
      "750/750 [==============================] - 0s 28us/sample - loss: 0.4538 - acc: 0.7307\n",
      "Epoch 40/100\n",
      "750/750 [==============================] - 0s 32us/sample - loss: 0.4487 - acc: 0.7320\n",
      "Epoch 41/100\n",
      "750/750 [==============================] - 0s 28us/sample - loss: 0.4436 - acc: 0.7347\n",
      "Epoch 42/100\n",
      "750/750 [==============================] - 0s 29us/sample - loss: 0.4387 - acc: 0.7360\n",
      "Epoch 43/100\n",
      "750/750 [==============================] - 0s 29us/sample - loss: 0.4339 - acc: 0.7507\n",
      "Epoch 44/100\n",
      "750/750 [==============================] - 0s 28us/sample - loss: 0.4292 - acc: 0.7520\n",
      "Epoch 45/100\n",
      "750/750 [==============================] - 0s 29us/sample - loss: 0.4243 - acc: 0.7547\n",
      "Epoch 46/100\n",
      "750/750 [==============================] - 0s 28us/sample - loss: 0.4197 - acc: 0.7600\n",
      "Epoch 47/100\n",
      "750/750 [==============================] - 0s 35us/sample - loss: 0.4152 - acc: 0.7640\n",
      "Epoch 48/100\n",
      "750/750 [==============================] - 0s 33us/sample - loss: 0.4107 - acc: 0.7653\n",
      "Epoch 49/100\n",
      "750/750 [==============================] - 0s 28us/sample - loss: 0.4061 - acc: 0.7720\n",
      "Epoch 50/100\n",
      "750/750 [==============================] - 0s 28us/sample - loss: 0.4018 - acc: 0.7747\n",
      "Epoch 51/100\n",
      "750/750 [==============================] - 0s 29us/sample - loss: 0.3973 - acc: 0.7813\n",
      "Epoch 52/100\n",
      "750/750 [==============================] - 0s 31us/sample - loss: 0.3930 - acc: 0.7867\n",
      "Epoch 53/100\n",
      "750/750 [==============================] - 0s 28us/sample - loss: 0.3887 - acc: 0.7907\n",
      "Epoch 54/100\n",
      "750/750 [==============================] - 0s 29us/sample - loss: 0.3847 - acc: 0.8000\n",
      "Epoch 55/100\n",
      "750/750 [==============================] - 0s 31us/sample - loss: 0.3806 - acc: 0.8040\n",
      "Epoch 56/100\n",
      "750/750 [==============================] - 0s 25us/sample - loss: 0.3767 - acc: 0.8053\n",
      "Epoch 57/100\n",
      "750/750 [==============================] - 0s 28us/sample - loss: 0.3729 - acc: 0.8053\n",
      "Epoch 58/100\n",
      "750/750 [==============================] - 0s 28us/sample - loss: 0.3692 - acc: 0.8080\n",
      "Epoch 59/100\n",
      "750/750 [==============================] - 0s 27us/sample - loss: 0.3656 - acc: 0.8133\n",
      "Epoch 60/100\n",
      "750/750 [==============================] - 0s 29us/sample - loss: 0.3622 - acc: 0.8133\n",
      "Epoch 61/100\n",
      "750/750 [==============================] - 0s 27us/sample - loss: 0.3587 - acc: 0.8187\n",
      "Epoch 62/100\n",
      "750/750 [==============================] - 0s 28us/sample - loss: 0.3554 - acc: 0.8200\n",
      "Epoch 63/100\n",
      "750/750 [==============================] - 0s 28us/sample - loss: 0.3521 - acc: 0.8227\n",
      "Epoch 64/100\n",
      "750/750 [==============================] - 0s 28us/sample - loss: 0.3490 - acc: 0.8227\n",
      "Epoch 65/100\n",
      "750/750 [==============================] - 0s 32us/sample - loss: 0.3459 - acc: 0.8240\n",
      "Epoch 66/100\n",
      "750/750 [==============================] - 0s 29us/sample - loss: 0.3432 - acc: 0.8240\n",
      "Epoch 67/100\n",
      "750/750 [==============================] - 0s 29us/sample - loss: 0.3402 - acc: 0.8267\n",
      "Epoch 68/100\n",
      "750/750 [==============================] - 0s 27us/sample - loss: 0.3375 - acc: 0.8267\n",
      "Epoch 69/100\n",
      "750/750 [==============================] - 0s 27us/sample - loss: 0.3348 - acc: 0.8280\n",
      "Epoch 70/100\n",
      "750/750 [==============================] - 0s 25us/sample - loss: 0.3322 - acc: 0.8280\n",
      "Epoch 71/100\n",
      "750/750 [==============================] - 0s 27us/sample - loss: 0.3297 - acc: 0.8293\n",
      "Epoch 72/100\n",
      "750/750 [==============================] - 0s 27us/sample - loss: 0.3273 - acc: 0.8307\n",
      "Epoch 73/100\n",
      "750/750 [==============================] - 0s 25us/sample - loss: 0.3249 - acc: 0.8333\n",
      "Epoch 74/100\n",
      "750/750 [==============================] - 0s 27us/sample - loss: 0.3226 - acc: 0.8373\n",
      "Epoch 75/100\n",
      "750/750 [==============================] - 0s 28us/sample - loss: 0.3203 - acc: 0.8387\n",
      "Epoch 76/100\n",
      "750/750 [==============================] - 0s 24us/sample - loss: 0.3180 - acc: 0.8413\n",
      "Epoch 77/100\n",
      "750/750 [==============================] - 0s 27us/sample - loss: 0.3159 - acc: 0.8440\n",
      "Epoch 78/100\n",
      "750/750 [==============================] - 0s 25us/sample - loss: 0.3138 - acc: 0.8453\n",
      "Epoch 79/100\n",
      "750/750 [==============================] - 0s 25us/sample - loss: 0.3118 - acc: 0.8467\n",
      "Epoch 80/100\n",
      "750/750 [==============================] - 0s 25us/sample - loss: 0.3099 - acc: 0.8480\n",
      "Epoch 81/100\n",
      "750/750 [==============================] - 0s 28us/sample - loss: 0.3080 - acc: 0.8520\n",
      "Epoch 82/100\n",
      "750/750 [==============================] - 0s 25us/sample - loss: 0.3064 - acc: 0.8547\n",
      "Epoch 83/100\n"
     ]
    },
    {
     "name": "stdout",
     "output_type": "stream",
     "text": [
      "750/750 [==============================] - 0s 28us/sample - loss: 0.3044 - acc: 0.8547\n",
      "Epoch 84/100\n",
      "750/750 [==============================] - 0s 27us/sample - loss: 0.3027 - acc: 0.8573\n",
      "Epoch 85/100\n",
      "750/750 [==============================] - 0s 27us/sample - loss: 0.3012 - acc: 0.8573\n",
      "Epoch 86/100\n",
      "750/750 [==============================] - 0s 28us/sample - loss: 0.2994 - acc: 0.8587\n",
      "Epoch 87/100\n",
      "750/750 [==============================] - 0s 29us/sample - loss: 0.2978 - acc: 0.8613\n",
      "Epoch 88/100\n",
      "750/750 [==============================] - 0s 29us/sample - loss: 0.2964 - acc: 0.8640\n",
      "Epoch 89/100\n",
      "750/750 [==============================] - 0s 36us/sample - loss: 0.2949 - acc: 0.8653\n",
      "Epoch 90/100\n",
      "750/750 [==============================] - 0s 29us/sample - loss: 0.2935 - acc: 0.8653\n",
      "Epoch 91/100\n",
      "750/750 [==============================] - 0s 35us/sample - loss: 0.2922 - acc: 0.8667\n",
      "Epoch 92/100\n",
      "750/750 [==============================] - 0s 36us/sample - loss: 0.2909 - acc: 0.8680\n",
      "Epoch 93/100\n",
      "750/750 [==============================] - 0s 29us/sample - loss: 0.2896 - acc: 0.8680\n",
      "Epoch 94/100\n",
      "750/750 [==============================] - 0s 39us/sample - loss: 0.2883 - acc: 0.8680\n",
      "Epoch 95/100\n",
      "750/750 [==============================] - 0s 37us/sample - loss: 0.2871 - acc: 0.8693\n",
      "Epoch 96/100\n",
      "750/750 [==============================] - 0s 35us/sample - loss: 0.2860 - acc: 0.8693\n",
      "Epoch 97/100\n",
      "750/750 [==============================] - 0s 31us/sample - loss: 0.2849 - acc: 0.8693\n",
      "Epoch 98/100\n",
      "750/750 [==============================] - 0s 39us/sample - loss: 0.2838 - acc: 0.8693\n",
      "Epoch 99/100\n",
      "750/750 [==============================] - 0s 36us/sample - loss: 0.2828 - acc: 0.8693\n",
      "Epoch 100/100\n",
      "750/750 [==============================] - 0s 31us/sample - loss: 0.2817 - acc: 0.8720\n"
     ]
    }
   ],
   "source": [
    "# Training the model with the nonlinear data\n",
    "model_moon = nn_model.fit(X_moon_train_scaled, y_moon_train, epochs=100, shuffle=True)"
   ]
  },
  {
   "cell_type": "code",
   "execution_count": 61,
   "metadata": {},
   "outputs": [
    {
     "data": {
      "text/plain": [
       "<matplotlib.axes._subplots.AxesSubplot at 0x1f402957248>"
      ]
     },
     "execution_count": 61,
     "metadata": {},
     "output_type": "execute_result"
    },
    {
     "data": {
      "image/png": "[encoded data removed]",
      "text/plain": [
       "<Figure size 432x288 with 1 Axes>"
      ]
     },
     "metadata": {
      "needs_background": "light"
     },
     "output_type": "display_data"
    }
   ],
   "source": [
    "# Create a DataFrame containing training history\n",
    "history_df = pd.DataFrame(model_moon.history, index=range(1,len(model_moon.history[\"loss\"])+1))\n",
    "\n",
    "# Plot the loss\n",
    "history_df.plot(y=\"loss\")"
   ]
  },
  {
   "cell_type": "code",
   "execution_count": 62,
   "metadata": {},
   "outputs": [
    {
     "data": {
      "text/plain": [
       "<matplotlib.axes._subplots.AxesSubplot at 0x1f4029a3d08>"
      ]
     },
     "execution_count": 62,
     "metadata": {},
     "output_type": "execute_result"
    },
    {
     "data": {
      "image/png": "[encoded data removed]",
      "text/plain": [
       "<Figure size 432x288 with 1 Axes>"
      ]
     },
     "metadata": {
      "needs_background": "light"
     },
     "output_type": "display_data"
    }
   ],
   "source": [
    "# Plot the loss\n",
    "history_df.plot(y=\"acc\")"
   ]
  },
  {
   "cell_type": "code",
   "execution_count": 63,
   "metadata": {},
   "outputs": [],
   "source": [
    "# Generate our new Sequential model\n",
    "new_model = tf.keras.models.Sequential()"
   ]
  },
  {
   "cell_type": "code",
   "execution_count": 65,
   "metadata": {},
   "outputs": [],
   "source": [
    "# Add the input and hidden layer\n",
    "number_inputs = 2\n",
    "number_hidden_nodes = 6\n",
    "\n",
    "new_model.add(tf.keras.layers.Dense(units=number_hidden_nodes, activation=\"relu\", input_dim=number_inputs))\n",
    "\n",
    "# Add the output layer that uses a probability activation function\n",
    "new_model.add(tf.keras.layers.Dense(units=1, activation=\"sigmoid\"))"
   ]
  },
  {
   "cell_type": "code",
   "execution_count": 66,
   "metadata": {},
   "outputs": [
    {
     "name": "stdout",
     "output_type": "stream",
     "text": [
      "Epoch 1/100\n",
      "750/750 [==============================] - 0s 144us/sample - loss: 0.6092 - acc: 0.6747\n",
      "Epoch 2/100\n",
      "750/750 [==============================] - 0s 28us/sample - loss: 0.5687 - acc: 0.7067\n",
      "Epoch 3/100\n",
      "750/750 [==============================] - 0s 29us/sample - loss: 0.5318 - acc: 0.7227\n",
      "Epoch 4/100\n",
      "750/750 [==============================] - 0s 32us/sample - loss: 0.4986 - acc: 0.7227\n",
      "Epoch 5/100\n",
      "750/750 [==============================] - 0s 36us/sample - loss: 0.4687 - acc: 0.7413\n",
      "Epoch 6/100\n",
      "750/750 [==============================] - 0s 33us/sample - loss: 0.4418 - acc: 0.7800\n",
      "Epoch 7/100\n",
      "750/750 [==============================] - 0s 28us/sample - loss: 0.4185 - acc: 0.8173\n",
      "Epoch 8/100\n",
      "750/750 [==============================] - 0s 28us/sample - loss: 0.3973 - acc: 0.8320\n",
      "Epoch 9/100\n",
      "750/750 [==============================] - 0s 29us/sample - loss: 0.3793 - acc: 0.8320\n",
      "Epoch 10/100\n",
      "750/750 [==============================] - 0s 31us/sample - loss: 0.3626 - acc: 0.8347\n",
      "Epoch 11/100\n",
      "750/750 [==============================] - 0s 28us/sample - loss: 0.3488 - acc: 0.8507\n",
      "Epoch 12/100\n",
      "750/750 [==============================] - 0s 28us/sample - loss: 0.3364 - acc: 0.8533\n",
      "Epoch 13/100\n",
      "750/750 [==============================] - 0s 28us/sample - loss: 0.3257 - acc: 0.8653\n",
      "Epoch 14/100\n",
      "750/750 [==============================] - 0s 28us/sample - loss: 0.3166 - acc: 0.8720\n",
      "Epoch 15/100\n",
      "750/750 [==============================] - 0s 28us/sample - loss: 0.3084 - acc: 0.8707\n",
      "Epoch 16/100\n",
      "750/750 [==============================] - 0s 29us/sample - loss: 0.3015 - acc: 0.8773\n",
      "Epoch 17/100\n",
      "750/750 [==============================] - 0s 29us/sample - loss: 0.2952 - acc: 0.8787\n",
      "Epoch 18/100\n",
      "750/750 [==============================] - 0s 32us/sample - loss: 0.2901 - acc: 0.8800\n",
      "Epoch 19/100\n",
      "750/750 [==============================] - 0s 28us/sample - loss: 0.2855 - acc: 0.8827\n",
      "Epoch 20/100\n",
      "750/750 [==============================] - 0s 31us/sample - loss: 0.2818 - acc: 0.8813\n",
      "Epoch 21/100\n",
      "750/750 [==============================] - 0s 29us/sample - loss: 0.2782 - acc: 0.8800\n",
      "Epoch 22/100\n",
      "750/750 [==============================] - 0s 29us/sample - loss: 0.2755 - acc: 0.8800\n",
      "Epoch 23/100\n",
      "750/750 [==============================] - 0s 29us/sample - loss: 0.2728 - acc: 0.8787\n",
      "Epoch 24/100\n",
      "750/750 [==============================] - 0s 29us/sample - loss: 0.2707 - acc: 0.8813\n",
      "Epoch 25/100\n",
      "750/750 [==============================] - 0s 31us/sample - loss: 0.2687 - acc: 0.8840\n",
      "Epoch 26/100\n",
      "750/750 [==============================] - 0s 29us/sample - loss: 0.2668 - acc: 0.8853\n",
      "Epoch 27/100\n",
      "750/750 [==============================] - 0s 31us/sample - loss: 0.2652 - acc: 0.8853\n",
      "Epoch 28/100\n",
      "750/750 [==============================] - 0s 32us/sample - loss: 0.2640 - acc: 0.8867\n",
      "Epoch 29/100\n",
      "750/750 [==============================] - 0s 32us/sample - loss: 0.2627 - acc: 0.8867\n",
      "Epoch 30/100\n",
      "750/750 [==============================] - 0s 33us/sample - loss: 0.2615 - acc: 0.8880\n",
      "Epoch 31/100\n",
      "750/750 [==============================] - 0s 29us/sample - loss: 0.2608 - acc: 0.8867\n",
      "Epoch 32/100\n",
      "750/750 [==============================] - 0s 32us/sample - loss: 0.2597 - acc: 0.8880\n",
      "Epoch 33/100\n",
      "750/750 [==============================] - 0s 28us/sample - loss: 0.2591 - acc: 0.8880\n",
      "Epoch 34/100\n",
      "750/750 [==============================] - 0s 29us/sample - loss: 0.2582 - acc: 0.8880\n",
      "Epoch 35/100\n",
      "750/750 [==============================] - 0s 32us/sample - loss: 0.2576 - acc: 0.8880\n",
      "Epoch 36/100\n",
      "750/750 [==============================] - 0s 32us/sample - loss: 0.2572 - acc: 0.8893\n",
      "Epoch 37/100\n",
      "750/750 [==============================] - 0s 28us/sample - loss: 0.2565 - acc: 0.8880\n",
      "Epoch 38/100\n",
      "750/750 [==============================] - 0s 32us/sample - loss: 0.2560 - acc: 0.8893\n",
      "Epoch 39/100\n",
      "750/750 [==============================] - 0s 28us/sample - loss: 0.2555 - acc: 0.8893\n",
      "Epoch 40/100\n",
      "750/750 [==============================] - 0s 29us/sample - loss: 0.2550 - acc: 0.8893\n",
      "Epoch 41/100\n",
      "750/750 [==============================] - 0s 28us/sample - loss: 0.2545 - acc: 0.8907\n",
      "Epoch 42/100\n",
      "750/750 [==============================] - 0s 29us/sample - loss: 0.2541 - acc: 0.8893\n",
      "Epoch 43/100\n",
      "750/750 [==============================] - 0s 31us/sample - loss: 0.2536 - acc: 0.8893\n",
      "Epoch 44/100\n",
      "750/750 [==============================] - 0s 29us/sample - loss: 0.2532 - acc: 0.8893\n",
      "Epoch 45/100\n",
      "750/750 [==============================] - 0s 31us/sample - loss: 0.2529 - acc: 0.8893\n",
      "Epoch 46/100\n",
      "750/750 [==============================] - 0s 31us/sample - loss: 0.2525 - acc: 0.8880\n",
      "Epoch 47/100\n",
      "750/750 [==============================] - 0s 31us/sample - loss: 0.2520 - acc: 0.8893\n",
      "Epoch 48/100\n",
      "750/750 [==============================] - 0s 28us/sample - loss: 0.2516 - acc: 0.8893\n",
      "Epoch 49/100\n",
      "750/750 [==============================] - 0s 31us/sample - loss: 0.2512 - acc: 0.8907\n",
      "Epoch 50/100\n",
      "750/750 [==============================] - 0s 29us/sample - loss: 0.2509 - acc: 0.8907\n",
      "Epoch 51/100\n",
      "750/750 [==============================] - 0s 29us/sample - loss: 0.2504 - acc: 0.8907\n",
      "Epoch 52/100\n",
      "750/750 [==============================] - 0s 28us/sample - loss: 0.2501 - acc: 0.8907\n",
      "Epoch 53/100\n",
      "750/750 [==============================] - 0s 33us/sample - loss: 0.2497 - acc: 0.8907\n",
      "Epoch 54/100\n",
      "750/750 [==============================] - 0s 29us/sample - loss: 0.2494 - acc: 0.8920\n",
      "Epoch 55/100\n",
      "750/750 [==============================] - 0s 28us/sample - loss: 0.2489 - acc: 0.8907\n",
      "Epoch 56/100\n",
      "750/750 [==============================] - 0s 27us/sample - loss: 0.2486 - acc: 0.8907\n",
      "Epoch 57/100\n",
      "750/750 [==============================] - 0s 28us/sample - loss: 0.2481 - acc: 0.8907\n",
      "Epoch 58/100\n",
      "750/750 [==============================] - 0s 27us/sample - loss: 0.2477 - acc: 0.8907\n",
      "Epoch 59/100\n",
      "750/750 [==============================] - 0s 28us/sample - loss: 0.2474 - acc: 0.8920\n",
      "Epoch 60/100\n",
      "750/750 [==============================] - 0s 31us/sample - loss: 0.2470 - acc: 0.8920\n",
      "Epoch 61/100\n",
      "750/750 [==============================] - 0s 28us/sample - loss: 0.2466 - acc: 0.8933\n",
      "Epoch 62/100\n",
      "750/750 [==============================] - 0s 27us/sample - loss: 0.2462 - acc: 0.8933\n",
      "Epoch 63/100\n",
      "750/750 [==============================] - 0s 28us/sample - loss: 0.2458 - acc: 0.8933\n",
      "Epoch 64/100\n",
      "750/750 [==============================] - 0s 27us/sample - loss: 0.2454 - acc: 0.8947\n",
      "Epoch 65/100\n",
      "750/750 [==============================] - 0s 29us/sample - loss: 0.2451 - acc: 0.8947\n",
      "Epoch 66/100\n",
      "750/750 [==============================] - 0s 28us/sample - loss: 0.2446 - acc: 0.8947\n",
      "Epoch 67/100\n",
      "750/750 [==============================] - 0s 27us/sample - loss: 0.2442 - acc: 0.8947\n",
      "Epoch 68/100\n",
      "750/750 [==============================] - 0s 27us/sample - loss: 0.2438 - acc: 0.8947\n",
      "Epoch 69/100\n",
      "750/750 [==============================] - 0s 27us/sample - loss: 0.2435 - acc: 0.8947\n",
      "Epoch 70/100\n",
      "750/750 [==============================] - 0s 28us/sample - loss: 0.2430 - acc: 0.8933\n",
      "Epoch 71/100\n",
      "750/750 [==============================] - 0s 25us/sample - loss: 0.2426 - acc: 0.8947\n",
      "Epoch 72/100\n",
      "750/750 [==============================] - 0s 28us/sample - loss: 0.2422 - acc: 0.8960\n",
      "Epoch 73/100\n",
      "750/750 [==============================] - 0s 29us/sample - loss: 0.2417 - acc: 0.8973\n",
      "Epoch 74/100\n",
      "750/750 [==============================] - 0s 27us/sample - loss: 0.2414 - acc: 0.8973\n",
      "Epoch 75/100\n",
      "750/750 [==============================] - 0s 28us/sample - loss: 0.2410 - acc: 0.8987\n",
      "Epoch 76/100\n",
      "750/750 [==============================] - 0s 27us/sample - loss: 0.2406 - acc: 0.8973\n",
      "Epoch 77/100\n",
      "750/750 [==============================] - 0s 29us/sample - loss: 0.2402 - acc: 0.8973\n",
      "Epoch 78/100\n",
      "750/750 [==============================] - 0s 29us/sample - loss: 0.2398 - acc: 0.8973\n",
      "Epoch 79/100\n",
      "750/750 [==============================] - 0s 28us/sample - loss: 0.2394 - acc: 0.8973\n",
      "Epoch 80/100\n",
      "750/750 [==============================] - 0s 28us/sample - loss: 0.2389 - acc: 0.8973\n",
      "Epoch 81/100\n",
      "750/750 [==============================] - 0s 27us/sample - loss: 0.2385 - acc: 0.8973\n",
      "Epoch 82/100\n",
      "750/750 [==============================] - 0s 28us/sample - loss: 0.2384 - acc: 0.8973\n",
      "Epoch 83/100\n"
     ]
    },
    {
     "name": "stdout",
     "output_type": "stream",
     "text": [
      "750/750 [==============================] - 0s 29us/sample - loss: 0.2376 - acc: 0.8973\n",
      "Epoch 84/100\n",
      "750/750 [==============================] - 0s 29us/sample - loss: 0.2372 - acc: 0.8973\n",
      "Epoch 85/100\n",
      "750/750 [==============================] - 0s 29us/sample - loss: 0.2367 - acc: 0.8973\n",
      "Epoch 86/100\n",
      "750/750 [==============================] - 0s 28us/sample - loss: 0.2363 - acc: 0.8973\n",
      "Epoch 87/100\n",
      "750/750 [==============================] - 0s 35us/sample - loss: 0.2358 - acc: 0.8973\n",
      "Epoch 88/100\n",
      "750/750 [==============================] - 0s 29us/sample - loss: 0.2355 - acc: 0.8973\n",
      "Epoch 89/100\n",
      "750/750 [==============================] - 0s 37us/sample - loss: 0.2350 - acc: 0.8973\n",
      "Epoch 90/100\n",
      "750/750 [==============================] - 0s 33us/sample - loss: 0.2345 - acc: 0.8987\n",
      "Epoch 91/100\n",
      "750/750 [==============================] - 0s 27us/sample - loss: 0.2341 - acc: 0.8987\n",
      "Epoch 92/100\n",
      "750/750 [==============================] - 0s 31us/sample - loss: 0.2337 - acc: 0.9000\n",
      "Epoch 93/100\n",
      "750/750 [==============================] - 0s 31us/sample - loss: 0.2332 - acc: 0.9013\n",
      "Epoch 94/100\n",
      "750/750 [==============================] - 0s 28us/sample - loss: 0.2326 - acc: 0.9000\n",
      "Epoch 95/100\n",
      "750/750 [==============================] - 0s 29us/sample - loss: 0.2321 - acc: 0.9000\n",
      "Epoch 96/100\n",
      "750/750 [==============================] - 0s 31us/sample - loss: 0.2316 - acc: 0.8987\n",
      "Epoch 97/100\n",
      "750/750 [==============================] - 0s 33us/sample - loss: 0.2311 - acc: 0.9000\n",
      "Epoch 98/100\n",
      "750/750 [==============================] - 0s 28us/sample - loss: 0.2305 - acc: 0.9000\n",
      "Epoch 99/100\n",
      "750/750 [==============================] - 0s 33us/sample - loss: 0.2303 - acc: 0.9000\n",
      "Epoch 100/100\n",
      "750/750 [==============================] - 0s 29us/sample - loss: 0.2296 - acc: 0.9000\n"
     ]
    }
   ],
   "source": [
    "# Compile the Sequential model together and customize metrics\n",
    "new_model.compile(loss=\"binary_crossentropy\", optimizer=\"adam\", metrics=[\"accuracy\"])\n",
    "\n",
    "# Fit the model to the training data\n",
    "new_fit_model = new_model.fit(X_moon_train_scaled, y_moon_train, epochs=100, shuffle=True)"
   ]
  },
  {
   "cell_type": "code",
   "execution_count": null,
   "metadata": {},
   "outputs": [],
   "source": []
  }
 ],
 "metadata": {
  "kernelspec": {
   "display_name": "Python 3",
   "language": "python",
   "name": "python3"
  },
  "language_info": {
   "codemirror_mode": {
    "name": "ipython",
    "version": 3
   },
   "file_extension": ".py",
   "mimetype": "text/x-python",
   "name": "python",
   "nbconvert_exporter": "python",
   "pygments_lexer": "ipython3",
   "version": "3.7.7"
  }
 },
 "nbformat": 4,
 "nbformat_minor": 4
}
